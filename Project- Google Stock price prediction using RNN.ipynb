{
 "cells": [
  {
   "cell_type": "markdown",
   "id": "76e11a01",
   "metadata": {},
   "source": [
    "## Project: Google Stock Price Prediction using RNN and LSTM"
   ]
  },
  {
   "cell_type": "markdown",
   "id": "43b0bfa8",
   "metadata": {},
   "source": [
    "### Importing libraries"
   ]
  },
  {
   "cell_type": "code",
   "execution_count": 1,
   "id": "3e361893",
   "metadata": {},
   "outputs": [],
   "source": [
    "import pandas as pd\n",
    "import numpy as np\n",
    "import matplotlib.pyplot as plt"
   ]
  },
  {
   "cell_type": "markdown",
   "id": "d8bef2d4",
   "metadata": {},
   "source": [
    "### PreProcessing"
   ]
  },
  {
   "cell_type": "code",
   "execution_count": 12,
   "id": "b5273c03",
   "metadata": {},
   "outputs": [
    {
     "data": {
      "text/html": [
       "<div>\n",
       "<style scoped>\n",
       "    .dataframe tbody tr th:only-of-type {\n",
       "        vertical-align: middle;\n",
       "    }\n",
       "\n",
       "    .dataframe tbody tr th {\n",
       "        vertical-align: top;\n",
       "    }\n",
       "\n",
       "    .dataframe thead th {\n",
       "        text-align: right;\n",
       "    }\n",
       "</style>\n",
       "<table border=\"1\" class=\"dataframe\">\n",
       "  <thead>\n",
       "    <tr style=\"text-align: right;\">\n",
       "      <th></th>\n",
       "      <th>Date</th>\n",
       "      <th>Open</th>\n",
       "      <th>High</th>\n",
       "      <th>Low</th>\n",
       "      <th>Close</th>\n",
       "      <th>Volume</th>\n",
       "    </tr>\n",
       "  </thead>\n",
       "  <tbody>\n",
       "    <tr>\n",
       "      <th>0</th>\n",
       "      <td>1/3/2012</td>\n",
       "      <td>325.25</td>\n",
       "      <td>332.83</td>\n",
       "      <td>324.97</td>\n",
       "      <td>663.59</td>\n",
       "      <td>7,380,500</td>\n",
       "    </tr>\n",
       "    <tr>\n",
       "      <th>1</th>\n",
       "      <td>1/4/2012</td>\n",
       "      <td>331.27</td>\n",
       "      <td>333.87</td>\n",
       "      <td>329.08</td>\n",
       "      <td>666.45</td>\n",
       "      <td>5,749,400</td>\n",
       "    </tr>\n",
       "    <tr>\n",
       "      <th>2</th>\n",
       "      <td>1/5/2012</td>\n",
       "      <td>329.83</td>\n",
       "      <td>330.75</td>\n",
       "      <td>326.89</td>\n",
       "      <td>657.21</td>\n",
       "      <td>6,590,300</td>\n",
       "    </tr>\n",
       "    <tr>\n",
       "      <th>3</th>\n",
       "      <td>1/6/2012</td>\n",
       "      <td>328.34</td>\n",
       "      <td>328.77</td>\n",
       "      <td>323.68</td>\n",
       "      <td>648.24</td>\n",
       "      <td>5,405,900</td>\n",
       "    </tr>\n",
       "    <tr>\n",
       "      <th>4</th>\n",
       "      <td>1/9/2012</td>\n",
       "      <td>322.04</td>\n",
       "      <td>322.29</td>\n",
       "      <td>309.46</td>\n",
       "      <td>620.76</td>\n",
       "      <td>11,688,800</td>\n",
       "    </tr>\n",
       "    <tr>\n",
       "      <th>...</th>\n",
       "      <td>...</td>\n",
       "      <td>...</td>\n",
       "      <td>...</td>\n",
       "      <td>...</td>\n",
       "      <td>...</td>\n",
       "      <td>...</td>\n",
       "    </tr>\n",
       "    <tr>\n",
       "      <th>1253</th>\n",
       "      <td>12/23/2016</td>\n",
       "      <td>790.90</td>\n",
       "      <td>792.74</td>\n",
       "      <td>787.28</td>\n",
       "      <td>789.91</td>\n",
       "      <td>623,400</td>\n",
       "    </tr>\n",
       "    <tr>\n",
       "      <th>1254</th>\n",
       "      <td>12/27/2016</td>\n",
       "      <td>790.68</td>\n",
       "      <td>797.86</td>\n",
       "      <td>787.66</td>\n",
       "      <td>791.55</td>\n",
       "      <td>789,100</td>\n",
       "    </tr>\n",
       "    <tr>\n",
       "      <th>1255</th>\n",
       "      <td>12/28/2016</td>\n",
       "      <td>793.70</td>\n",
       "      <td>794.23</td>\n",
       "      <td>783.20</td>\n",
       "      <td>785.05</td>\n",
       "      <td>1,153,800</td>\n",
       "    </tr>\n",
       "    <tr>\n",
       "      <th>1256</th>\n",
       "      <td>12/29/2016</td>\n",
       "      <td>783.33</td>\n",
       "      <td>785.93</td>\n",
       "      <td>778.92</td>\n",
       "      <td>782.79</td>\n",
       "      <td>744,300</td>\n",
       "    </tr>\n",
       "    <tr>\n",
       "      <th>1257</th>\n",
       "      <td>12/30/2016</td>\n",
       "      <td>782.75</td>\n",
       "      <td>782.78</td>\n",
       "      <td>770.41</td>\n",
       "      <td>771.82</td>\n",
       "      <td>1,770,000</td>\n",
       "    </tr>\n",
       "  </tbody>\n",
       "</table>\n",
       "<p>1258 rows × 6 columns</p>\n",
       "</div>"
      ],
      "text/plain": [
       "            Date    Open    High     Low   Close      Volume\n",
       "0       1/3/2012  325.25  332.83  324.97  663.59   7,380,500\n",
       "1       1/4/2012  331.27  333.87  329.08  666.45   5,749,400\n",
       "2       1/5/2012  329.83  330.75  326.89  657.21   6,590,300\n",
       "3       1/6/2012  328.34  328.77  323.68  648.24   5,405,900\n",
       "4       1/9/2012  322.04  322.29  309.46  620.76  11,688,800\n",
       "...          ...     ...     ...     ...     ...         ...\n",
       "1253  12/23/2016  790.90  792.74  787.28  789.91     623,400\n",
       "1254  12/27/2016  790.68  797.86  787.66  791.55     789,100\n",
       "1255  12/28/2016  793.70  794.23  783.20  785.05   1,153,800\n",
       "1256  12/29/2016  783.33  785.93  778.92  782.79     744,300\n",
       "1257  12/30/2016  782.75  782.78  770.41  771.82   1,770,000\n",
       "\n",
       "[1258 rows x 6 columns]"
      ]
     },
     "execution_count": 12,
     "metadata": {},
     "output_type": "execute_result"
    }
   ],
   "source": [
    "data_train=pd.read_csv('Google_Stock_Price_Train.csv')\n",
    "data_train"
   ]
  },
  {
   "cell_type": "markdown",
   "id": "f6e6f8bc",
   "metadata": {},
   "source": [
    "### Checking missing values"
   ]
  },
  {
   "cell_type": "code",
   "execution_count": 3,
   "id": "0c867941",
   "metadata": {},
   "outputs": [
    {
     "data": {
      "text/plain": [
       "Date      0\n",
       "Open      0\n",
       "High      0\n",
       "Low       0\n",
       "Close     0\n",
       "Volume    0\n",
       "dtype: int64"
      ]
     },
     "execution_count": 3,
     "metadata": {},
     "output_type": "execute_result"
    }
   ],
   "source": [
    "data_train.isnull().sum()"
   ]
  },
  {
   "cell_type": "code",
   "execution_count": 4,
   "id": "eb45fba2",
   "metadata": {},
   "outputs": [
    {
     "data": {
      "text/html": [
       "<div>\n",
       "<style scoped>\n",
       "    .dataframe tbody tr th:only-of-type {\n",
       "        vertical-align: middle;\n",
       "    }\n",
       "\n",
       "    .dataframe tbody tr th {\n",
       "        vertical-align: top;\n",
       "    }\n",
       "\n",
       "    .dataframe thead th {\n",
       "        text-align: right;\n",
       "    }\n",
       "</style>\n",
       "<table border=\"1\" class=\"dataframe\">\n",
       "  <thead>\n",
       "    <tr style=\"text-align: right;\">\n",
       "      <th></th>\n",
       "      <th>Date</th>\n",
       "      <th>Open</th>\n",
       "      <th>High</th>\n",
       "      <th>Low</th>\n",
       "      <th>Close</th>\n",
       "      <th>Volume</th>\n",
       "    </tr>\n",
       "  </thead>\n",
       "  <tbody>\n",
       "    <tr>\n",
       "      <th>0</th>\n",
       "      <td>1/3/2017</td>\n",
       "      <td>778.81</td>\n",
       "      <td>789.63</td>\n",
       "      <td>775.80</td>\n",
       "      <td>786.14</td>\n",
       "      <td>1,657,300</td>\n",
       "    </tr>\n",
       "    <tr>\n",
       "      <th>1</th>\n",
       "      <td>1/4/2017</td>\n",
       "      <td>788.36</td>\n",
       "      <td>791.34</td>\n",
       "      <td>783.16</td>\n",
       "      <td>786.90</td>\n",
       "      <td>1,073,000</td>\n",
       "    </tr>\n",
       "    <tr>\n",
       "      <th>2</th>\n",
       "      <td>1/5/2017</td>\n",
       "      <td>786.08</td>\n",
       "      <td>794.48</td>\n",
       "      <td>785.02</td>\n",
       "      <td>794.02</td>\n",
       "      <td>1,335,200</td>\n",
       "    </tr>\n",
       "    <tr>\n",
       "      <th>3</th>\n",
       "      <td>1/6/2017</td>\n",
       "      <td>795.26</td>\n",
       "      <td>807.90</td>\n",
       "      <td>792.20</td>\n",
       "      <td>806.15</td>\n",
       "      <td>1,640,200</td>\n",
       "    </tr>\n",
       "    <tr>\n",
       "      <th>4</th>\n",
       "      <td>1/9/2017</td>\n",
       "      <td>806.40</td>\n",
       "      <td>809.97</td>\n",
       "      <td>802.83</td>\n",
       "      <td>806.65</td>\n",
       "      <td>1,272,400</td>\n",
       "    </tr>\n",
       "    <tr>\n",
       "      <th>5</th>\n",
       "      <td>1/10/2017</td>\n",
       "      <td>807.86</td>\n",
       "      <td>809.13</td>\n",
       "      <td>803.51</td>\n",
       "      <td>804.79</td>\n",
       "      <td>1,176,800</td>\n",
       "    </tr>\n",
       "    <tr>\n",
       "      <th>6</th>\n",
       "      <td>1/11/2017</td>\n",
       "      <td>805.00</td>\n",
       "      <td>808.15</td>\n",
       "      <td>801.37</td>\n",
       "      <td>807.91</td>\n",
       "      <td>1,065,900</td>\n",
       "    </tr>\n",
       "    <tr>\n",
       "      <th>7</th>\n",
       "      <td>1/12/2017</td>\n",
       "      <td>807.14</td>\n",
       "      <td>807.39</td>\n",
       "      <td>799.17</td>\n",
       "      <td>806.36</td>\n",
       "      <td>1,353,100</td>\n",
       "    </tr>\n",
       "    <tr>\n",
       "      <th>8</th>\n",
       "      <td>1/13/2017</td>\n",
       "      <td>807.48</td>\n",
       "      <td>811.22</td>\n",
       "      <td>806.69</td>\n",
       "      <td>807.88</td>\n",
       "      <td>1,099,200</td>\n",
       "    </tr>\n",
       "    <tr>\n",
       "      <th>9</th>\n",
       "      <td>1/17/2017</td>\n",
       "      <td>807.08</td>\n",
       "      <td>807.14</td>\n",
       "      <td>800.37</td>\n",
       "      <td>804.61</td>\n",
       "      <td>1,362,100</td>\n",
       "    </tr>\n",
       "    <tr>\n",
       "      <th>10</th>\n",
       "      <td>1/18/2017</td>\n",
       "      <td>805.81</td>\n",
       "      <td>806.21</td>\n",
       "      <td>800.99</td>\n",
       "      <td>806.07</td>\n",
       "      <td>1,294,400</td>\n",
       "    </tr>\n",
       "    <tr>\n",
       "      <th>11</th>\n",
       "      <td>1/19/2017</td>\n",
       "      <td>805.12</td>\n",
       "      <td>809.48</td>\n",
       "      <td>801.80</td>\n",
       "      <td>802.17</td>\n",
       "      <td>919,300</td>\n",
       "    </tr>\n",
       "    <tr>\n",
       "      <th>12</th>\n",
       "      <td>1/20/2017</td>\n",
       "      <td>806.91</td>\n",
       "      <td>806.91</td>\n",
       "      <td>801.69</td>\n",
       "      <td>805.02</td>\n",
       "      <td>1,670,000</td>\n",
       "    </tr>\n",
       "    <tr>\n",
       "      <th>13</th>\n",
       "      <td>1/23/2017</td>\n",
       "      <td>807.25</td>\n",
       "      <td>820.87</td>\n",
       "      <td>803.74</td>\n",
       "      <td>819.31</td>\n",
       "      <td>1,963,600</td>\n",
       "    </tr>\n",
       "    <tr>\n",
       "      <th>14</th>\n",
       "      <td>1/24/2017</td>\n",
       "      <td>822.30</td>\n",
       "      <td>825.90</td>\n",
       "      <td>817.82</td>\n",
       "      <td>823.87</td>\n",
       "      <td>1,474,000</td>\n",
       "    </tr>\n",
       "    <tr>\n",
       "      <th>15</th>\n",
       "      <td>1/25/2017</td>\n",
       "      <td>829.62</td>\n",
       "      <td>835.77</td>\n",
       "      <td>825.06</td>\n",
       "      <td>835.67</td>\n",
       "      <td>1,494,500</td>\n",
       "    </tr>\n",
       "    <tr>\n",
       "      <th>16</th>\n",
       "      <td>1/26/2017</td>\n",
       "      <td>837.81</td>\n",
       "      <td>838.00</td>\n",
       "      <td>827.01</td>\n",
       "      <td>832.15</td>\n",
       "      <td>2,973,900</td>\n",
       "    </tr>\n",
       "    <tr>\n",
       "      <th>17</th>\n",
       "      <td>1/27/2017</td>\n",
       "      <td>834.71</td>\n",
       "      <td>841.95</td>\n",
       "      <td>820.44</td>\n",
       "      <td>823.31</td>\n",
       "      <td>2,965,800</td>\n",
       "    </tr>\n",
       "    <tr>\n",
       "      <th>18</th>\n",
       "      <td>1/30/2017</td>\n",
       "      <td>814.66</td>\n",
       "      <td>815.84</td>\n",
       "      <td>799.80</td>\n",
       "      <td>802.32</td>\n",
       "      <td>3,246,600</td>\n",
       "    </tr>\n",
       "    <tr>\n",
       "      <th>19</th>\n",
       "      <td>1/31/2017</td>\n",
       "      <td>796.86</td>\n",
       "      <td>801.25</td>\n",
       "      <td>790.52</td>\n",
       "      <td>796.79</td>\n",
       "      <td>2,160,600</td>\n",
       "    </tr>\n",
       "  </tbody>\n",
       "</table>\n",
       "</div>"
      ],
      "text/plain": [
       "         Date    Open    High     Low   Close     Volume\n",
       "0    1/3/2017  778.81  789.63  775.80  786.14  1,657,300\n",
       "1    1/4/2017  788.36  791.34  783.16  786.90  1,073,000\n",
       "2    1/5/2017  786.08  794.48  785.02  794.02  1,335,200\n",
       "3    1/6/2017  795.26  807.90  792.20  806.15  1,640,200\n",
       "4    1/9/2017  806.40  809.97  802.83  806.65  1,272,400\n",
       "5   1/10/2017  807.86  809.13  803.51  804.79  1,176,800\n",
       "6   1/11/2017  805.00  808.15  801.37  807.91  1,065,900\n",
       "7   1/12/2017  807.14  807.39  799.17  806.36  1,353,100\n",
       "8   1/13/2017  807.48  811.22  806.69  807.88  1,099,200\n",
       "9   1/17/2017  807.08  807.14  800.37  804.61  1,362,100\n",
       "10  1/18/2017  805.81  806.21  800.99  806.07  1,294,400\n",
       "11  1/19/2017  805.12  809.48  801.80  802.17    919,300\n",
       "12  1/20/2017  806.91  806.91  801.69  805.02  1,670,000\n",
       "13  1/23/2017  807.25  820.87  803.74  819.31  1,963,600\n",
       "14  1/24/2017  822.30  825.90  817.82  823.87  1,474,000\n",
       "15  1/25/2017  829.62  835.77  825.06  835.67  1,494,500\n",
       "16  1/26/2017  837.81  838.00  827.01  832.15  2,973,900\n",
       "17  1/27/2017  834.71  841.95  820.44  823.31  2,965,800\n",
       "18  1/30/2017  814.66  815.84  799.80  802.32  3,246,600\n",
       "19  1/31/2017  796.86  801.25  790.52  796.79  2,160,600"
      ]
     },
     "execution_count": 4,
     "metadata": {},
     "output_type": "execute_result"
    }
   ],
   "source": [
    "data_test=pd.read_csv('Google_Stock_Price_Test.csv')\n",
    "data_test"
   ]
  },
  {
   "cell_type": "code",
   "execution_count": 5,
   "id": "fabbcae7",
   "metadata": {},
   "outputs": [
    {
     "data": {
      "text/plain": [
       "array([[325.25],\n",
       "       [331.27],\n",
       "       [329.83],\n",
       "       ...,\n",
       "       [793.7 ],\n",
       "       [783.33],\n",
       "       [782.75]])"
      ]
     },
     "execution_count": 5,
     "metadata": {},
     "output_type": "execute_result"
    }
   ],
   "source": [
    "train_set=data_train.iloc[:,1:2].values\n",
    "train_set"
   ]
  },
  {
   "cell_type": "markdown",
   "id": "66ee1ada",
   "metadata": {},
   "source": [
    "### Feature Scaling"
   ]
  },
  {
   "cell_type": "markdown",
   "id": "8c03a496",
   "metadata": {},
   "source": [
    "MinMaxScaler scales the values between 0 and 1"
   ]
  },
  {
   "cell_type": "code",
   "execution_count": 6,
   "id": "7d7656fe",
   "metadata": {},
   "outputs": [],
   "source": [
    "from sklearn.preprocessing import MinMaxScaler\n",
    "sc=MinMaxScaler(feature_range=(0, 1))\n",
    "train_data_scaled=sc.fit_transform(train_set)"
   ]
  },
  {
   "cell_type": "code",
   "execution_count": 20,
   "id": "ef627175",
   "metadata": {},
   "outputs": [
    {
     "data": {
      "text/plain": [
       "array([[0.08581368],\n",
       "       [0.09701243],\n",
       "       [0.09433366],\n",
       "       ...,\n",
       "       [0.95725128],\n",
       "       [0.93796041],\n",
       "       [0.93688146]])"
      ]
     },
     "execution_count": 20,
     "metadata": {},
     "output_type": "execute_result"
    }
   ],
   "source": [
    "train_data_scaled"
   ]
  },
  {
   "cell_type": "markdown",
   "id": "9c260130",
   "metadata": {},
   "source": [
    "### Create a data structure with 60 timesteps with one output"
   ]
  },
  {
   "cell_type": "markdown",
   "id": "01790ef6",
   "metadata": {},
   "source": [
    "x_train- input to RNN- index-(0-59) RNN train and learn, next time step- t+1- index(1-60) \n",
    "y_train- one output- index(60) RNN learn to predict- Predict index(61) for t+1\n",
    "\n",
    "x_train, y_train both are inputs. RNN learn the i/p and o/p and predict the upcoming stock prices\n",
    "based on this learning."
   ]
  },
  {
   "cell_type": "code",
   "execution_count": 21,
   "id": "9a9b97a2",
   "metadata": {},
   "outputs": [],
   "source": [
    "x_train=[]\n",
    "y_train=[]\n",
    "for i in range(60,len(data_train)):\n",
    "    x_train.append(train_data_scaled[i-60:i,0])\n",
    "    y_train.append(train_data_scaled[i,0])\n",
    "x_train,y_train=np.array(x_train),np.array(y_train) #  To convert list into array"
   ]
  },
  {
   "cell_type": "code",
   "execution_count": 24,
   "id": "36ae6528",
   "metadata": {},
   "outputs": [
    {
     "data": {
      "text/plain": [
       "array([0.08581368, 0.09701243, 0.09433366, 0.09156187, 0.07984225,\n",
       "       0.0643277 , 0.0585423 , 0.06568569, 0.06109085, 0.06639259,\n",
       "       0.0614257 , 0.07474514, 0.02797827, 0.02379269, 0.02409033,\n",
       "       0.0159238 , 0.01078949, 0.00967334, 0.01642607, 0.02100231,\n",
       "       0.02280676, 0.02273235, 0.02810849, 0.03212665, 0.0433812 ,\n",
       "       0.04475779, 0.04790163, 0.0440695 , 0.04648783, 0.04745517,\n",
       "       0.04873875, 0.03936305, 0.04137213, 0.04034898, 0.04784582,\n",
       "       0.04325099, 0.04356723, 0.04286033, 0.04602277, 0.05398467,\n",
       "       0.05738894, 0.05714711, 0.05569611, 0.04421832, 0.04514845,\n",
       "       0.04605997, 0.04412531, 0.03675869, 0.04486941, 0.05065481,\n",
       "       0.05214302, 0.05612397, 0.05818885, 0.06540665, 0.06882953,\n",
       "       0.07243843, 0.07993526, 0.07846566, 0.08034452, 0.08497656,\n",
       "       0.08627874, 0.08471612])"
      ]
     },
     "execution_count": 24,
     "metadata": {},
     "output_type": "execute_result"
    }
   ],
   "source": [
    "train_data_scaled[0:62,0]"
   ]
  },
  {
   "cell_type": "code",
   "execution_count": 25,
   "id": "40edac85",
   "metadata": {},
   "outputs": [
    {
     "data": {
      "text/plain": [
       "array([[0.08581368, 0.09701243, 0.09433366, ..., 0.07846566, 0.08034452,\n",
       "        0.08497656],\n",
       "       [0.09701243, 0.09433366, 0.09156187, ..., 0.08034452, 0.08497656,\n",
       "        0.08627874],\n",
       "       [0.09433366, 0.09156187, 0.07984225, ..., 0.08497656, 0.08627874,\n",
       "        0.08471612],\n",
       "       ...,\n",
       "       [0.92106928, 0.92438053, 0.93048218, ..., 0.95475854, 0.95204256,\n",
       "        0.95163331],\n",
       "       [0.92438053, 0.93048218, 0.9299055 , ..., 0.95204256, 0.95163331,\n",
       "        0.95725128],\n",
       "       [0.93048218, 0.9299055 , 0.93113327, ..., 0.95163331, 0.95725128,\n",
       "        0.93796041]])"
      ]
     },
     "execution_count": 25,
     "metadata": {},
     "output_type": "execute_result"
    }
   ],
   "source": [
    "x_train"
   ]
  },
  {
   "cell_type": "code",
   "execution_count": 26,
   "id": "14fe4937",
   "metadata": {},
   "outputs": [
    {
     "data": {
      "text/plain": [
       "array([0.08627874, 0.08471612, 0.07454052, ..., 0.95725128, 0.93796041,\n",
       "       0.93688146])"
      ]
     },
     "execution_count": 26,
     "metadata": {},
     "output_type": "execute_result"
    }
   ],
   "source": [
    "y_train"
   ]
  },
  {
   "cell_type": "markdown",
   "id": "7e27a9ee",
   "metadata": {},
   "source": [
    "### Reshaping"
   ]
  },
  {
   "cell_type": "markdown",
   "id": "7d162ee0",
   "metadata": {},
   "source": [
    "RNN always take the input in 3 dimension  that why we reshape the above 2D x_train to 3D"
   ]
  },
  {
   "cell_type": "code",
   "execution_count": 30,
   "id": "27ae4120",
   "metadata": {},
   "outputs": [],
   "source": [
    "x_train=np.reshape(x_train,(x_train.shape[0], x_train.shape[1], 1))"
   ]
  },
  {
   "cell_type": "markdown",
   "id": "1651823b",
   "metadata": {},
   "source": [
    "np.reshape(array,(batch_size, timesteps, no. of indicator))"
   ]
  },
  {
   "cell_type": "code",
   "execution_count": 27,
   "id": "e00f8ecb",
   "metadata": {},
   "outputs": [
    {
     "data": {
      "text/plain": [
       "1198"
      ]
     },
     "execution_count": 27,
     "metadata": {},
     "output_type": "execute_result"
    }
   ],
   "source": [
    "x_train.shape[0]"
   ]
  },
  {
   "cell_type": "code",
   "execution_count": 28,
   "id": "b3d37736",
   "metadata": {},
   "outputs": [
    {
     "data": {
      "text/plain": [
       "60"
      ]
     },
     "execution_count": 28,
     "metadata": {},
     "output_type": "execute_result"
    }
   ],
   "source": [
    "x_train.shape[1]"
   ]
  },
  {
   "cell_type": "code",
   "execution_count": 33,
   "id": "a68c4798",
   "metadata": {},
   "outputs": [
    {
     "data": {
      "text/plain": [
       "3"
      ]
     },
     "execution_count": 33,
     "metadata": {},
     "output_type": "execute_result"
    }
   ],
   "source": [
    "x_train.ndim   # This attribute is used to check the dimension of the array."
   ]
  },
  {
   "cell_type": "markdown",
   "id": "9a11b814",
   "metadata": {},
   "source": [
    "### Building RNN model"
   ]
  },
  {
   "cell_type": "markdown",
   "id": "88e679cb",
   "metadata": {},
   "source": [
    "Dropout is a technique where randomly selected neurons are ignored during training."
   ]
  },
  {
   "cell_type": "markdown",
   "id": "05482bbe",
   "metadata": {},
   "source": [
    "LSTM- Long Short Term Memory- Variety/kind of RNN- Used for predicting sequential problems.\n",
    "In LSTM architecture, there is a horizontal pipeline called memory cell which lets the information flow through it. There is a valve/gate in LSTM helps to add and remove the information."
   ]
  },
  {
   "cell_type": "markdown",
   "id": "4f3ca647",
   "metadata": {},
   "source": [
    "Dense Class is a output layer- Fully connected layer"
   ]
  },
  {
   "cell_type": "markdown",
   "id": "2e233c5c",
   "metadata": {},
   "source": [
    "### Import libraries"
   ]
  },
  {
   "cell_type": "code",
   "execution_count": 34,
   "id": "9ca5376e",
   "metadata": {},
   "outputs": [],
   "source": [
    "from keras.models import Sequential   #  Create sequence of layers\n",
    "from keras.layers import Dense        # Create output layer\n",
    "from keras.layers import LSTM         # Long Short Term Memory Layer\n",
    "from keras.layers import Dropout      # Prevent  overfitting"
   ]
  },
  {
   "cell_type": "markdown",
   "id": "a60a7538",
   "metadata": {},
   "source": [
    "#### Initializing RNN"
   ]
  },
  {
   "cell_type": "code",
   "execution_count": 35,
   "id": "a7812c44",
   "metadata": {},
   "outputs": [],
   "source": [
    "regressor=Sequential()    # Here we use regressor object becoz stock prices are the continuous val"
   ]
  },
  {
   "cell_type": "markdown",
   "id": "3fea8cff",
   "metadata": {},
   "source": [
    "#### Adding first layer LSTM and some dropout regularization."
   ]
  },
  {
   "cell_type": "code",
   "execution_count": 36,
   "id": "281ba45c",
   "metadata": {},
   "outputs": [],
   "source": [
    "regressor.add(LSTM(units=50, return_sequences=True, input_shape=(x_train.shape[1], 1)))\n",
    "\n",
    "regressor.add(Dropout(rate=0.2))    # 20 % of neurons will be ignored during training. \n",
    "                                    # LSTM- 50 neurons- 10 neurons \"..."
   ]
  },
  {
   "cell_type": "markdown",
   "id": "2c58f38b",
   "metadata": {},
   "source": [
    "#### Adding Second layer LSTM and some dropout regularization."
   ]
  },
  {
   "cell_type": "code",
   "execution_count": 37,
   "id": "1e64d312",
   "metadata": {},
   "outputs": [],
   "source": [
    "regressor.add(LSTM(units=50, return_sequences=True))\n",
    "\n",
    "regressor.add(Dropout(rate=0.2))    "
   ]
  },
  {
   "cell_type": "markdown",
   "id": "e810ae1e",
   "metadata": {},
   "source": [
    "#### Adding third layer LSTM and some dropout regularization."
   ]
  },
  {
   "cell_type": "code",
   "execution_count": 38,
   "id": "37358915",
   "metadata": {},
   "outputs": [],
   "source": [
    "regressor.add(LSTM(units=50, return_sequences=True))\n",
    "\n",
    "regressor.add(Dropout(rate=0.2))    "
   ]
  },
  {
   "cell_type": "markdown",
   "id": "7487de82",
   "metadata": {},
   "source": [
    "#### Adding fourth layer LSTM and some dropout regularization."
   ]
  },
  {
   "cell_type": "code",
   "execution_count": 39,
   "id": "0b92ae26",
   "metadata": {},
   "outputs": [],
   "source": [
    "regressor.add(LSTM(units=50))\n",
    "\n",
    "regressor.add(Dropout(rate=0.2))    "
   ]
  },
  {
   "cell_type": "markdown",
   "id": "cb9498b9",
   "metadata": {},
   "source": [
    "#### Adding the output layer"
   ]
  },
  {
   "cell_type": "code",
   "execution_count": 40,
   "id": "7fc16f11",
   "metadata": {},
   "outputs": [],
   "source": [
    "regressor.add(Dense(units=1))"
   ]
  },
  {
   "cell_type": "markdown",
   "id": "32eb7db9",
   "metadata": {},
   "source": [
    "#### Compiling the RNN"
   ]
  },
  {
   "cell_type": "markdown",
   "id": "daece074",
   "metadata": {},
   "source": [
    "optimizers are used to minimize the loss function- stochastic gradient descent."
   ]
  },
  {
   "cell_type": "code",
   "execution_count": 41,
   "id": "fb44877a",
   "metadata": {},
   "outputs": [],
   "source": [
    "regressor.compile(optimizer='adam',loss='mean_squared_error')"
   ]
  },
  {
   "cell_type": "markdown",
   "id": "7490b3aa",
   "metadata": {},
   "source": [
    "#### Fitting the RNN to the training set"
   ]
  },
  {
   "cell_type": "code",
   "execution_count": 42,
   "id": "41e7e16a",
   "metadata": {},
   "outputs": [
    {
     "name": "stdout",
     "output_type": "stream",
     "text": [
      "Epoch 1/100\n",
      "38/38 [==============================] - 13s 81ms/step - loss: 0.0291\n",
      "Epoch 2/100\n",
      "38/38 [==============================] - 3s 91ms/step - loss: 0.0063\n",
      "Epoch 3/100\n",
      "38/38 [==============================] - 3s 87ms/step - loss: 0.0057\n",
      "Epoch 4/100\n",
      "38/38 [==============================] - 4s 93ms/step - loss: 0.0051\n",
      "Epoch 5/100\n",
      "38/38 [==============================] - 3s 78ms/step - loss: 0.0048\n",
      "Epoch 6/100\n",
      "38/38 [==============================] - 4s 93ms/step - loss: 0.0046\n",
      "Epoch 7/100\n",
      "38/38 [==============================] - 3s 83ms/step - loss: 0.0049\n",
      "Epoch 8/100\n",
      "38/38 [==============================] - 3s 85ms/step - loss: 0.0046\n",
      "Epoch 9/100\n",
      "38/38 [==============================] - 3s 83ms/step - loss: 0.0041\n",
      "Epoch 10/100\n",
      "38/38 [==============================] - 3s 84ms/step - loss: 0.0041\n",
      "Epoch 11/100\n",
      "38/38 [==============================] - 3s 83ms/step - loss: 0.0044\n",
      "Epoch 12/100\n",
      "38/38 [==============================] - 3s 86ms/step - loss: 0.0043\n",
      "Epoch 13/100\n",
      "38/38 [==============================] - 3s 84ms/step - loss: 0.0040\n",
      "Epoch 14/100\n",
      "38/38 [==============================] - 3s 84ms/step - loss: 0.0041\n",
      "Epoch 15/100\n",
      "38/38 [==============================] - 3s 82ms/step - loss: 0.0037\n",
      "Epoch 16/100\n",
      "38/38 [==============================] - 3s 83ms/step - loss: 0.0033\n",
      "Epoch 17/100\n",
      "38/38 [==============================] - 3s 82ms/step - loss: 0.0037\n",
      "Epoch 18/100\n",
      "38/38 [==============================] - 3s 90ms/step - loss: 0.0035\n",
      "Epoch 19/100\n",
      "38/38 [==============================] - 3s 87ms/step - loss: 0.0035\n",
      "Epoch 20/100\n",
      "38/38 [==============================] - 3s 89ms/step - loss: 0.0035\n",
      "Epoch 21/100\n",
      "38/38 [==============================] - 3s 89ms/step - loss: 0.0044\n",
      "Epoch 22/100\n",
      "38/38 [==============================] - 3s 90ms/step - loss: 0.0031\n",
      "Epoch 23/100\n",
      "38/38 [==============================] - 3s 86ms/step - loss: 0.0033\n",
      "Epoch 24/100\n",
      "38/38 [==============================] - 3s 83ms/step - loss: 0.0032\n",
      "Epoch 25/100\n",
      "38/38 [==============================] - 3s 85ms/step - loss: 0.0034\n",
      "Epoch 26/100\n",
      "38/38 [==============================] - 4s 96ms/step - loss: 0.0030\n",
      "Epoch 27/100\n",
      "38/38 [==============================] - 3s 89ms/step - loss: 0.0031\n",
      "Epoch 28/100\n",
      "38/38 [==============================] - 3s 87ms/step - loss: 0.0030\n",
      "Epoch 29/100\n",
      "38/38 [==============================] - 3s 85ms/step - loss: 0.0031\n",
      "Epoch 30/100\n",
      "38/38 [==============================] - 4s 107ms/step - loss: 0.0033\n",
      "Epoch 31/100\n",
      "38/38 [==============================] - 4s 100ms/step - loss: 0.0032\n",
      "Epoch 32/100\n",
      "38/38 [==============================] - 3s 84ms/step - loss: 0.0030\n",
      "Epoch 33/100\n",
      "38/38 [==============================] - 3s 86ms/step - loss: 0.0027\n",
      "Epoch 34/100\n",
      "38/38 [==============================] - 3s 84ms/step - loss: 0.0035\n",
      "Epoch 35/100\n",
      "38/38 [==============================] - 3s 85ms/step - loss: 0.0027\n",
      "Epoch 36/100\n",
      "38/38 [==============================] - 3s 84ms/step - loss: 0.0027\n",
      "Epoch 37/100\n",
      "38/38 [==============================] - 3s 85ms/step - loss: 0.0025\n",
      "Epoch 38/100\n",
      "38/38 [==============================] - 3s 82ms/step - loss: 0.0025\n",
      "Epoch 39/100\n",
      "38/38 [==============================] - 3s 85ms/step - loss: 0.0024\n",
      "Epoch 40/100\n",
      "38/38 [==============================] - 3s 84ms/step - loss: 0.0025\n",
      "Epoch 41/100\n",
      "38/38 [==============================] - 3s 85ms/step - loss: 0.0025\n",
      "Epoch 42/100\n",
      "38/38 [==============================] - 3s 84ms/step - loss: 0.0026\n",
      "Epoch 43/100\n",
      "38/38 [==============================] - 3s 86ms/step - loss: 0.0024\n",
      "Epoch 44/100\n",
      "38/38 [==============================] - 3s 86ms/step - loss: 0.0024\n",
      "Epoch 45/100\n",
      "38/38 [==============================] - 3s 84ms/step - loss: 0.0022\n",
      "Epoch 46/100\n",
      "38/38 [==============================] - 3s 85ms/step - loss: 0.0024\n",
      "Epoch 47/100\n",
      "38/38 [==============================] - 4s 94ms/step - loss: 0.0023\n",
      "Epoch 48/100\n",
      "38/38 [==============================] - 3s 92ms/step - loss: 0.0024\n",
      "Epoch 49/100\n",
      "38/38 [==============================] - 3s 89ms/step - loss: 0.0023\n",
      "Epoch 50/100\n",
      "38/38 [==============================] - 3s 86ms/step - loss: 0.0024\n",
      "Epoch 51/100\n",
      "38/38 [==============================] - 3s 84ms/step - loss: 0.0025\n",
      "Epoch 52/100\n",
      "38/38 [==============================] - 3s 87ms/step - loss: 0.0026\n",
      "Epoch 53/100\n",
      "38/38 [==============================] - 3s 84ms/step - loss: 0.0022\n",
      "Epoch 54/100\n",
      "38/38 [==============================] - 3s 85ms/step - loss: 0.0021\n",
      "Epoch 55/100\n",
      "38/38 [==============================] - 3s 85ms/step - loss: 0.0023\n",
      "Epoch 56/100\n",
      "38/38 [==============================] - 3s 85ms/step - loss: 0.0020\n",
      "Epoch 57/100\n",
      "38/38 [==============================] - 3s 86ms/step - loss: 0.0022\n",
      "Epoch 58/100\n",
      "38/38 [==============================] - 4s 96ms/step - loss: 0.0021\n",
      "Epoch 59/100\n",
      "38/38 [==============================] - 3s 91ms/step - loss: 0.0025\n",
      "Epoch 60/100\n",
      "38/38 [==============================] - 3s 92ms/step - loss: 0.0021\n",
      "Epoch 61/100\n",
      "38/38 [==============================] - 4s 92ms/step - loss: 0.0019\n",
      "Epoch 62/100\n",
      "38/38 [==============================] - 4s 114ms/step - loss: 0.0019\n",
      "Epoch 63/100\n",
      "38/38 [==============================] - 4s 110ms/step - loss: 0.0020\n",
      "Epoch 64/100\n",
      "38/38 [==============================] - 3s 90ms/step - loss: 0.0019\n",
      "Epoch 65/100\n",
      "38/38 [==============================] - 3s 90ms/step - loss: 0.0017\n",
      "Epoch 66/100\n",
      "38/38 [==============================] - 3s 87ms/step - loss: 0.0024\n",
      "Epoch 67/100\n",
      "38/38 [==============================] - 3s 89ms/step - loss: 0.0020\n",
      "Epoch 68/100\n",
      "38/38 [==============================] - 4s 112ms/step - loss: 0.0020\n",
      "Epoch 69/100\n",
      "38/38 [==============================] - 4s 106ms/step - loss: 0.0018\n",
      "Epoch 70/100\n",
      "38/38 [==============================] - 3s 92ms/step - loss: 0.0019\n",
      "Epoch 71/100\n",
      "38/38 [==============================] - 3s 86ms/step - loss: 0.0020\n",
      "Epoch 72/100\n",
      "38/38 [==============================] - 3s 89ms/step - loss: 0.0020\n",
      "Epoch 73/100\n",
      "38/38 [==============================] - 3s 89ms/step - loss: 0.0018\n",
      "Epoch 74/100\n",
      "38/38 [==============================] - 3s 85ms/step - loss: 0.0016\n",
      "Epoch 75/100\n",
      "38/38 [==============================] - 4s 100ms/step - loss: 0.0018\n",
      "Epoch 76/100\n",
      "38/38 [==============================] - 4s 102ms/step - loss: 0.0017\n",
      "Epoch 77/100\n",
      "38/38 [==============================] - 4s 98ms/step - loss: 0.0016\n",
      "Epoch 78/100\n",
      "38/38 [==============================] - 4s 94ms/step - loss: 0.0019\n",
      "Epoch 79/100\n",
      "38/38 [==============================] - 4s 102ms/step - loss: 0.0016\n",
      "Epoch 80/100\n",
      "38/38 [==============================] - 3s 91ms/step - loss: 0.0017\n",
      "Epoch 81/100\n",
      "38/38 [==============================] - 4s 104ms/step - loss: 0.0017\n",
      "Epoch 82/100\n",
      "38/38 [==============================] - 4s 107ms/step - loss: 0.0016\n",
      "Epoch 83/100\n",
      "38/38 [==============================] - 4s 97ms/step - loss: 0.0014\n",
      "Epoch 84/100\n",
      "38/38 [==============================] - 4s 93ms/step - loss: 0.0018\n",
      "Epoch 85/100\n",
      "38/38 [==============================] - 3s 88ms/step - loss: 0.0017\n",
      "Epoch 86/100\n",
      "38/38 [==============================] - 3s 84ms/step - loss: 0.0016\n",
      "Epoch 87/100\n",
      "38/38 [==============================] - 3s 82ms/step - loss: 0.0017\n",
      "Epoch 88/100\n",
      "38/38 [==============================] - 3s 82ms/step - loss: 0.0016\n",
      "Epoch 89/100\n",
      "38/38 [==============================] - 3s 83ms/step - loss: 0.0017\n",
      "Epoch 90/100\n",
      "38/38 [==============================] - 3s 82ms/step - loss: 0.0017\n",
      "Epoch 91/100\n",
      "38/38 [==============================] - 3s 82ms/step - loss: 0.0016\n",
      "Epoch 92/100\n",
      "38/38 [==============================] - 3s 82ms/step - loss: 0.0017\n",
      "Epoch 93/100\n",
      "38/38 [==============================] - 3s 85ms/step - loss: 0.0014\n",
      "Epoch 94/100\n",
      "38/38 [==============================] - 3s 85ms/step - loss: 0.0014\n",
      "Epoch 95/100\n",
      "38/38 [==============================] - 3s 82ms/step - loss: 0.0015\n",
      "Epoch 96/100\n",
      "38/38 [==============================] - 3s 82ms/step - loss: 0.0015\n",
      "Epoch 97/100\n",
      "38/38 [==============================] - 3s 76ms/step - loss: 0.0015\n",
      "Epoch 98/100\n",
      "38/38 [==============================] - 3s 82ms/step - loss: 0.0015\n",
      "Epoch 99/100\n",
      "38/38 [==============================] - 3s 87ms/step - loss: 0.0013\n",
      "Epoch 100/100\n",
      "38/38 [==============================] - 3s 82ms/step - loss: 0.0014\n"
     ]
    },
    {
     "data": {
      "text/plain": [
       "<keras.src.callbacks.History at 0x1fc5db5fb20>"
      ]
     },
     "execution_count": 42,
     "metadata": {},
     "output_type": "execute_result"
    }
   ],
   "source": [
    "regressor.fit(x_train,y_train,epochs=100,batch_size=32)"
   ]
  },
  {
   "cell_type": "markdown",
   "id": "de2c623a",
   "metadata": {},
   "source": [
    "### Making the prediction and visualizing the results"
   ]
  },
  {
   "cell_type": "markdown",
   "id": "a75f4eae",
   "metadata": {},
   "source": [
    "#### Getting the real stock price of 2017"
   ]
  },
  {
   "cell_type": "code",
   "execution_count": 43,
   "id": "476d6916",
   "metadata": {},
   "outputs": [],
   "source": [
    "data_test=pd.read_csv(\"Google_Stock_Price_Test.csv\")\n",
    "real_stock_price=data_test.iloc[:,1:2].values"
   ]
  },
  {
   "cell_type": "markdown",
   "id": "718cd120",
   "metadata": {},
   "source": [
    "#### Getting the predicted stock price of 2017"
   ]
  },
  {
   "cell_type": "code",
   "execution_count": 44,
   "id": "f229a5fc",
   "metadata": {},
   "outputs": [
    {
     "name": "stdout",
     "output_type": "stream",
     "text": [
      "1/1 [==============================] - 2s 2s/step\n"
     ]
    }
   ],
   "source": [
    "dataset_total = pd.concat((data_train['Open'], data_test['Open']), axis = 0)\n",
    "inputs = dataset_total[len(dataset_total) - len(data_test) - 60:].values\n",
    "inputs = inputs.reshape(-1,1)\n",
    "inputs = sc.transform(inputs)\n",
    "X_test = []\n",
    "for i in range(60, 80):\n",
    "    X_test.append(inputs[i-60:i, 0])\n",
    "X_test = np.array(X_test)\n",
    "X_test = np.reshape(X_test, (X_test.shape[0], X_test.shape[1], 1))\n",
    "predicted_stock_price = regressor.predict(X_test)\n",
    "predicted_stock_price = sc.inverse_transform(predicted_stock_price)"
   ]
  },
  {
   "cell_type": "markdown",
   "id": "c6869ab3",
   "metadata": {},
   "source": [
    "### Visualising the results"
   ]
  },
  {
   "cell_type": "code",
   "execution_count": 45,
   "id": "56a4676a",
   "metadata": {},
   "outputs": [
    {
     "data": {
      "image/png": "[encoded data removed]",
      "text/plain": [
       "<Figure size 640x480 with 1 Axes>"
      ]
     },
     "metadata": {},
     "output_type": "display_data"
    }
   ],
   "source": [
    "plt.plot(real_stock_price, color = 'red', label = 'Real Google Stock Price')\n",
    "plt.plot(predicted_stock_price, color = 'blue', label = 'Predicted Google Stock Price')\n",
    "plt.title('Google Stock Price Prediction')\n",
    "plt.xlabel('Time')\n",
    "plt.ylabel('Google Stock Price')\n",
    "plt.legend()\n",
    "plt.show()"
   ]
  },
  {
   "cell_type": "code",
   "execution_count": null,
   "id": "7b6fe53c",
   "metadata": {},
   "outputs": [],
   "source": []
  },
  {
   "cell_type": "code",
   "execution_count": null,
   "id": "9b8a287c",
   "metadata": {},
   "outputs": [],
   "source": []
  }
 ],
 "metadata": {
  "kernelspec": {
   "display_name": "Python 3 (ipykernel)",
   "language": "python",
   "name": "python3"
  },
  "language_info": {
   "codemirror_mode": {
    "name": "ipython",
    "version": 3
   },
   "file_extension": ".py",
   "mimetype": "text/x-python",
   "name": "python",
   "nbconvert_exporter": "python",
   "pygments_lexer": "ipython3",
   "version": "3.10.9"
  }
 },
 "nbformat": 4,
 "nbformat_minor": 5
}
