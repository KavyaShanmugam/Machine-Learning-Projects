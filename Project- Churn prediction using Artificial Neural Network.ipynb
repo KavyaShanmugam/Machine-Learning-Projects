{
 "cells": [
  {
   "cell_type": "markdown",
   "id": "4da03d1e",
   "metadata": {},
   "source": [
    "## Deep Learning - Artificial Neural Network"
   ]
  },
  {
   "cell_type": "markdown",
   "id": "dba0a400",
   "metadata": {},
   "source": [
    "Data Preprocessing\n",
    "Building ANN\n",
    "Training ANN\n",
    "Prediction"
   ]
  },
  {
   "cell_type": "code",
   "execution_count": 95,
   "id": "ee71208e",
   "metadata": {},
   "outputs": [],
   "source": [
    "import pandas as pd\n",
    "import numpy as np\n",
    "import tensorflow as tf"
   ]
  },
  {
   "cell_type": "code",
   "execution_count": 96,
   "id": "a8cd7c3d",
   "metadata": {},
   "outputs": [
    {
     "data": {
      "text/plain": [
       "'2.13.0'"
      ]
     },
     "execution_count": 96,
     "metadata": {},
     "output_type": "execute_result"
    }
   ],
   "source": [
    "tf.__version__"
   ]
  },
  {
   "cell_type": "markdown",
   "id": "5063d4f4",
   "metadata": {},
   "source": [
    "## Data Preprocessing"
   ]
  },
  {
   "cell_type": "markdown",
   "id": "2144e3a4",
   "metadata": {},
   "source": [
    "### Feature scaling is an essential step in all deep learning models."
   ]
  },
  {
   "cell_type": "code",
   "execution_count": 97,
   "id": "ff117b60",
   "metadata": {},
   "outputs": [
    {
     "data": {
      "text/html": [
       "<div>\n",
       "<style scoped>\n",
       "    .dataframe tbody tr th:only-of-type {\n",
       "        vertical-align: middle;\n",
       "    }\n",
       "\n",
       "    .dataframe tbody tr th {\n",
       "        vertical-align: top;\n",
       "    }\n",
       "\n",
       "    .dataframe thead th {\n",
       "        text-align: right;\n",
       "    }\n",
       "</style>\n",
       "<table border=\"1\" class=\"dataframe\">\n",
       "  <thead>\n",
       "    <tr style=\"text-align: right;\">\n",
       "      <th></th>\n",
       "      <th>RowNumber</th>\n",
       "      <th>CustomerId</th>\n",
       "      <th>Surname</th>\n",
       "      <th>CreditScore</th>\n",
       "      <th>Geography</th>\n",
       "      <th>Gender</th>\n",
       "      <th>Age</th>\n",
       "      <th>Tenure</th>\n",
       "      <th>Balance</th>\n",
       "      <th>NumOfProducts</th>\n",
       "      <th>HasCrCard</th>\n",
       "      <th>IsActiveMember</th>\n",
       "      <th>EstimatedSalary</th>\n",
       "      <th>Exited</th>\n",
       "    </tr>\n",
       "  </thead>\n",
       "  <tbody>\n",
       "    <tr>\n",
       "      <th>0</th>\n",
       "      <td>1</td>\n",
       "      <td>15634602</td>\n",
       "      <td>Hargrave</td>\n",
       "      <td>619</td>\n",
       "      <td>France</td>\n",
       "      <td>Female</td>\n",
       "      <td>42</td>\n",
       "      <td>2</td>\n",
       "      <td>0.00</td>\n",
       "      <td>1</td>\n",
       "      <td>1</td>\n",
       "      <td>1</td>\n",
       "      <td>101348.88</td>\n",
       "      <td>1</td>\n",
       "    </tr>\n",
       "    <tr>\n",
       "      <th>1</th>\n",
       "      <td>2</td>\n",
       "      <td>15647311</td>\n",
       "      <td>Hill</td>\n",
       "      <td>608</td>\n",
       "      <td>Spain</td>\n",
       "      <td>Female</td>\n",
       "      <td>41</td>\n",
       "      <td>1</td>\n",
       "      <td>83807.86</td>\n",
       "      <td>1</td>\n",
       "      <td>0</td>\n",
       "      <td>1</td>\n",
       "      <td>112542.58</td>\n",
       "      <td>0</td>\n",
       "    </tr>\n",
       "    <tr>\n",
       "      <th>2</th>\n",
       "      <td>3</td>\n",
       "      <td>15619304</td>\n",
       "      <td>Onio</td>\n",
       "      <td>502</td>\n",
       "      <td>France</td>\n",
       "      <td>Female</td>\n",
       "      <td>42</td>\n",
       "      <td>8</td>\n",
       "      <td>159660.80</td>\n",
       "      <td>3</td>\n",
       "      <td>1</td>\n",
       "      <td>0</td>\n",
       "      <td>113931.57</td>\n",
       "      <td>1</td>\n",
       "    </tr>\n",
       "  </tbody>\n",
       "</table>\n",
       "</div>"
      ],
      "text/plain": [
       "   RowNumber  CustomerId   Surname  CreditScore Geography  Gender  Age  \\\n",
       "0          1    15634602  Hargrave          619    France  Female   42   \n",
       "1          2    15647311      Hill          608     Spain  Female   41   \n",
       "2          3    15619304      Onio          502    France  Female   42   \n",
       "\n",
       "   Tenure    Balance  NumOfProducts  HasCrCard  IsActiveMember  \\\n",
       "0       2       0.00              1          1               1   \n",
       "1       1   83807.86              1          0               1   \n",
       "2       8  159660.80              3          1               0   \n",
       "\n",
       "   EstimatedSalary  Exited  \n",
       "0        101348.88       1  \n",
       "1        112542.58       0  \n",
       "2        113931.57       1  "
      ]
     },
     "execution_count": 97,
     "metadata": {},
     "output_type": "execute_result"
    }
   ],
   "source": [
    "data=pd.read_csv('Churn_Modelling.csv')\n",
    "data.head(3)"
   ]
  },
  {
   "cell_type": "markdown",
   "id": "1d7adb1a",
   "metadata": {},
   "source": [
    "##### Description"
   ]
  },
  {
   "cell_type": "code",
   "execution_count": 98,
   "id": "859cace9",
   "metadata": {},
   "outputs": [
    {
     "data": {
      "text/plain": [
       "(10000, 14)"
      ]
     },
     "execution_count": 98,
     "metadata": {},
     "output_type": "execute_result"
    }
   ],
   "source": [
    "data.shape"
   ]
  },
  {
   "cell_type": "markdown",
   "id": "f70ff4e8",
   "metadata": {},
   "source": [
    "Tenure- the number of years they've been in the Bank.\n",
    "NumOfProducts- credit card, check book.\n",
    "Exited- Dependent var- The customer stayed in bank-1 or left the bank-0"
   ]
  },
  {
   "cell_type": "markdown",
   "id": "60af0b1e",
   "metadata": {},
   "source": [
    "### Checking missing values"
   ]
  },
  {
   "cell_type": "code",
   "execution_count": 99,
   "id": "37e97183",
   "metadata": {},
   "outputs": [
    {
     "data": {
      "text/plain": [
       "RowNumber          0\n",
       "CustomerId         0\n",
       "Surname            0\n",
       "CreditScore        0\n",
       "Geography          0\n",
       "Gender             0\n",
       "Age                0\n",
       "Tenure             0\n",
       "Balance            0\n",
       "NumOfProducts      0\n",
       "HasCrCard          0\n",
       "IsActiveMember     0\n",
       "EstimatedSalary    0\n",
       "Exited             0\n",
       "dtype: int64"
      ]
     },
     "execution_count": 99,
     "metadata": {},
     "output_type": "execute_result"
    }
   ],
   "source": [
    "data.isnull().sum()"
   ]
  },
  {
   "cell_type": "code",
   "execution_count": 100,
   "id": "b53863b7",
   "metadata": {},
   "outputs": [
    {
     "name": "stdout",
     "output_type": "stream",
     "text": [
      "0 RowNumber\n",
      "1 CustomerId\n",
      "2 Surname\n",
      "3 CreditScore\n",
      "4 Geography\n",
      "5 Gender\n",
      "6 Age\n",
      "7 Tenure\n",
      "8 Balance\n",
      "9 NumOfProducts\n",
      "10 HasCrCard\n",
      "11 IsActiveMember\n",
      "12 EstimatedSalary\n",
      "13 Exited\n"
     ]
    }
   ],
   "source": [
    "for i, e in enumerate(data):\n",
    "    print(i,e)"
   ]
  },
  {
   "cell_type": "markdown",
   "id": "6f1b24dc",
   "metadata": {},
   "source": [
    "### Assigning x and y"
   ]
  },
  {
   "cell_type": "code",
   "execution_count": 101,
   "id": "b92b68e7",
   "metadata": {},
   "outputs": [],
   "source": [
    "x=data.iloc[:,3:13].values\n",
    "y=data.iloc[:,-1:].values"
   ]
  },
  {
   "cell_type": "markdown",
   "id": "7f84956a",
   "metadata": {},
   "source": [
    "### Encoding"
   ]
  },
  {
   "cell_type": "markdown",
   "id": "a3fe4c49",
   "metadata": {},
   "source": [
    "##### Gender and Geography"
   ]
  },
  {
   "cell_type": "markdown",
   "id": "845691b0",
   "metadata": {},
   "source": [
    "##### Label encoding for Gender feature"
   ]
  },
  {
   "cell_type": "code",
   "execution_count": 102,
   "id": "ddf4e384",
   "metadata": {},
   "outputs": [],
   "source": [
    "from sklearn.preprocessing import LabelEncoder\n",
    "le=LabelEncoder()\n",
    "x[:,2]=le.fit_transform(x[:,2])"
   ]
  },
  {
   "cell_type": "code",
   "execution_count": 103,
   "id": "d7dabbd8",
   "metadata": {},
   "outputs": [
    {
     "data": {
      "text/plain": [
       "array([0, 0, 0, ..., 0, 1, 0], dtype=object)"
      ]
     },
     "execution_count": 103,
     "metadata": {},
     "output_type": "execute_result"
    }
   ],
   "source": [
    "x[:,2]"
   ]
  },
  {
   "cell_type": "code",
   "execution_count": 104,
   "id": "afbf93cb",
   "metadata": {},
   "outputs": [
    {
     "name": "stdout",
     "output_type": "stream",
     "text": [
      "0 CreditScore\n",
      "1 Geography\n",
      "2 Gender\n",
      "3 Age\n",
      "4 Tenure\n",
      "5 Balance\n",
      "6 NumOfProducts\n",
      "7 HasCrCard\n",
      "8 IsActiveMember\n",
      "9 EstimatedSalary\n"
     ]
    }
   ],
   "source": [
    "k=data.iloc[:,3:13]\n",
    "for i,j in enumerate(k):\n",
    "    print(i,j)"
   ]
  },
  {
   "cell_type": "markdown",
   "id": "de0dd597",
   "metadata": {},
   "source": [
    "##### OneHotEncoding for Geography feature"
   ]
  },
  {
   "cell_type": "code",
   "execution_count": 105,
   "id": "a1b46c1f",
   "metadata": {},
   "outputs": [],
   "source": [
    "from sklearn.compose import ColumnTransformer\n",
    "from sklearn.preprocessing import OneHotEncoder\n",
    "ct=ColumnTransformer(transformers=[('encoder',OneHotEncoder(),[1])], remainder='passthrough')\n",
    "x=np.array(ct.fit_transform(x))"
   ]
  },
  {
   "cell_type": "code",
   "execution_count": 106,
   "id": "ebbf19aa",
   "metadata": {},
   "outputs": [
    {
     "name": "stdout",
     "output_type": "stream",
     "text": [
      "[[1.0 0.0 0.0 ... 1 1 101348.88]\n",
      " [0.0 0.0 1.0 ... 0 1 112542.58]\n",
      " [1.0 0.0 0.0 ... 1 0 113931.57]\n",
      " ...\n",
      " [1.0 0.0 0.0 ... 0 1 42085.58]\n",
      " [0.0 1.0 0.0 ... 1 0 92888.52]\n",
      " [1.0 0.0 0.0 ... 1 0 38190.78]]\n"
     ]
    }
   ],
   "source": [
    "print(x)"
   ]
  },
  {
   "cell_type": "markdown",
   "id": "271b2518",
   "metadata": {},
   "source": [
    "### Splitting"
   ]
  },
  {
   "cell_type": "code",
   "execution_count": 107,
   "id": "8cc22120",
   "metadata": {},
   "outputs": [],
   "source": [
    "from sklearn.model_selection import train_test_split\n",
    "x_train,x_test,y_train,y_test=train_test_split(x,y,test_size=0.25,random_state=0)"
   ]
  },
  {
   "cell_type": "markdown",
   "id": "a14370e3",
   "metadata": {},
   "source": [
    "### Feature Scaling"
   ]
  },
  {
   "cell_type": "code",
   "execution_count": 108,
   "id": "4551e230",
   "metadata": {},
   "outputs": [],
   "source": [
    "from sklearn.preprocessing import StandardScaler\n",
    "sc=StandardScaler()\n",
    "x_train=sc.fit_transform(x_train)\n",
    "x_test=sc.transform(x_test)"
   ]
  },
  {
   "cell_type": "markdown",
   "id": "b2d5ad72",
   "metadata": {},
   "source": [
    "## Building ANN"
   ]
  },
  {
   "cell_type": "markdown",
   "id": "c053b024",
   "metadata": {},
   "source": [
    "### 1- Initialize ANN"
   ]
  },
  {
   "cell_type": "code",
   "execution_count": 109,
   "id": "4c07b1d0",
   "metadata": {},
   "outputs": [],
   "source": [
    "ann=tf.keras.models.Sequential()"
   ]
  },
  {
   "cell_type": "markdown",
   "id": "082067be",
   "metadata": {},
   "source": [
    "### 2- Adding the input layer and the first hidden layer"
   ]
  },
  {
   "cell_type": "code",
   "execution_count": 110,
   "id": "9adf30ae",
   "metadata": {},
   "outputs": [],
   "source": [
    "ann.add(tf.keras.layers.Dense(units=6, activation='relu'))"
   ]
  },
  {
   "cell_type": "markdown",
   "id": "6d784b51",
   "metadata": {},
   "source": [
    "### 3- Adding the second hidden layer"
   ]
  },
  {
   "cell_type": "code",
   "execution_count": 111,
   "id": "8c2652c4",
   "metadata": {},
   "outputs": [],
   "source": [
    "ann.add(tf.keras.layers.Dense(units=6, activation='relu'))"
   ]
  },
  {
   "cell_type": "markdown",
   "id": "47574e6c",
   "metadata": {},
   "source": [
    "### 4- Adding the output layer"
   ]
  },
  {
   "cell_type": "code",
   "execution_count": 112,
   "id": "a48e167c",
   "metadata": {},
   "outputs": [],
   "source": [
    "ann.add(tf.keras.layers.Dense(units=1,activation='sigmoid'))"
   ]
  },
  {
   "cell_type": "markdown",
   "id": "f042e6f1",
   "metadata": {},
   "source": [
    "## Training the ANN"
   ]
  },
  {
   "cell_type": "markdown",
   "id": "6b5f2678",
   "metadata": {},
   "source": [
    "### 1- Compiling ANN with optimizer- Cost function"
   ]
  },
  {
   "cell_type": "markdown",
   "id": "9d6d469c",
   "metadata": {},
   "source": [
    "optimizer- 'adam'- stochastic gradient descent- minimize cost function(Error) by updating the weights.\n",
    "loss- difference of predicted and actual o/p. For multi class o/p: 'category_crossentropy'\n",
    "metrics- accuracy purpose. "
   ]
  },
  {
   "cell_type": "code",
   "execution_count": 113,
   "id": "b806d824",
   "metadata": {},
   "outputs": [],
   "source": [
    "ann.compile(optimizer='adam', loss='binary_crossentropy',metrics=['accuracy'])"
   ]
  },
  {
   "cell_type": "markdown",
   "id": "6841c549",
   "metadata": {},
   "source": [
    "### 2- Train ANN on training dataset"
   ]
  },
  {
   "cell_type": "markdown",
   "id": "b6328b68",
   "metadata": {},
   "source": [
    "batch_size= the batch of rows you want to run.\n",
    "An epoch in a neural network is the training of the neural network with all the training data for one cycle."
   ]
  },
  {
   "cell_type": "code",
   "execution_count": 114,
   "id": "8f044346",
   "metadata": {},
   "outputs": [
    {
     "name": "stdout",
     "output_type": "stream",
     "text": [
      "Epoch 1/100\n",
      "235/235 [==============================] - 1s 2ms/step - loss: 0.6137 - accuracy: 0.7432\n",
      "Epoch 2/100\n",
      "235/235 [==============================] - 0s 2ms/step - loss: 0.4814 - accuracy: 0.7963\n",
      "Epoch 3/100\n",
      "235/235 [==============================] - 0s 2ms/step - loss: 0.4428 - accuracy: 0.7963\n",
      "Epoch 4/100\n",
      "235/235 [==============================] - 0s 2ms/step - loss: 0.4263 - accuracy: 0.7967\n",
      "Epoch 5/100\n",
      "235/235 [==============================] - 0s 2ms/step - loss: 0.4112 - accuracy: 0.8047\n",
      "Epoch 6/100\n",
      "235/235 [==============================] - 0s 2ms/step - loss: 0.3960 - accuracy: 0.8136\n",
      "Epoch 7/100\n",
      "235/235 [==============================] - 0s 2ms/step - loss: 0.3840 - accuracy: 0.8180\n",
      "Epoch 8/100\n",
      "235/235 [==============================] - 0s 2ms/step - loss: 0.3758 - accuracy: 0.8203\n",
      "Epoch 9/100\n",
      "235/235 [==============================] - 0s 2ms/step - loss: 0.3710 - accuracy: 0.8208\n",
      "Epoch 10/100\n",
      "235/235 [==============================] - 0s 2ms/step - loss: 0.3675 - accuracy: 0.8221\n",
      "Epoch 11/100\n",
      "235/235 [==============================] - 0s 2ms/step - loss: 0.3646 - accuracy: 0.8221\n",
      "Epoch 12/100\n",
      "235/235 [==============================] - 0s 2ms/step - loss: 0.3623 - accuracy: 0.8224\n",
      "Epoch 13/100\n",
      "235/235 [==============================] - 0s 2ms/step - loss: 0.3603 - accuracy: 0.8473\n",
      "Epoch 14/100\n",
      "235/235 [==============================] - 0s 2ms/step - loss: 0.3585 - accuracy: 0.8496\n",
      "Epoch 15/100\n",
      "235/235 [==============================] - 0s 2ms/step - loss: 0.3565 - accuracy: 0.8504\n",
      "Epoch 16/100\n",
      "235/235 [==============================] - 0s 2ms/step - loss: 0.3548 - accuracy: 0.8521\n",
      "Epoch 17/100\n",
      "235/235 [==============================] - 0s 2ms/step - loss: 0.3531 - accuracy: 0.8540\n",
      "Epoch 18/100\n",
      "235/235 [==============================] - 0s 2ms/step - loss: 0.3523 - accuracy: 0.8544\n",
      "Epoch 19/100\n",
      "235/235 [==============================] - 0s 2ms/step - loss: 0.3508 - accuracy: 0.8559\n",
      "Epoch 20/100\n",
      "235/235 [==============================] - 0s 2ms/step - loss: 0.3500 - accuracy: 0.8564\n",
      "Epoch 21/100\n",
      "235/235 [==============================] - 0s 2ms/step - loss: 0.3493 - accuracy: 0.8580\n",
      "Epoch 22/100\n",
      "235/235 [==============================] - 0s 2ms/step - loss: 0.3484 - accuracy: 0.8587\n",
      "Epoch 23/100\n",
      "235/235 [==============================] - 0s 2ms/step - loss: 0.3478 - accuracy: 0.8584\n",
      "Epoch 24/100\n",
      "235/235 [==============================] - 0s 2ms/step - loss: 0.3471 - accuracy: 0.8593\n",
      "Epoch 25/100\n",
      "235/235 [==============================] - 0s 2ms/step - loss: 0.3466 - accuracy: 0.8589\n",
      "Epoch 26/100\n",
      "235/235 [==============================] - 0s 2ms/step - loss: 0.3460 - accuracy: 0.8599\n",
      "Epoch 27/100\n",
      "235/235 [==============================] - 0s 2ms/step - loss: 0.3453 - accuracy: 0.8608\n",
      "Epoch 28/100\n",
      "235/235 [==============================] - 0s 2ms/step - loss: 0.3452 - accuracy: 0.8596\n",
      "Epoch 29/100\n",
      "235/235 [==============================] - 0s 2ms/step - loss: 0.3447 - accuracy: 0.8613\n",
      "Epoch 30/100\n",
      "235/235 [==============================] - 0s 2ms/step - loss: 0.3443 - accuracy: 0.8612\n",
      "Epoch 31/100\n",
      "235/235 [==============================] - 0s 2ms/step - loss: 0.3443 - accuracy: 0.8604\n",
      "Epoch 32/100\n",
      "235/235 [==============================] - 0s 2ms/step - loss: 0.3434 - accuracy: 0.8612\n",
      "Epoch 33/100\n",
      "235/235 [==============================] - 0s 2ms/step - loss: 0.3431 - accuracy: 0.8608\n",
      "Epoch 34/100\n",
      "235/235 [==============================] - 0s 2ms/step - loss: 0.3432 - accuracy: 0.8603\n",
      "Epoch 35/100\n",
      "235/235 [==============================] - 0s 2ms/step - loss: 0.3425 - accuracy: 0.8613\n",
      "Epoch 36/100\n",
      "235/235 [==============================] - 0s 2ms/step - loss: 0.3424 - accuracy: 0.8609\n",
      "Epoch 37/100\n",
      "235/235 [==============================] - 0s 2ms/step - loss: 0.3422 - accuracy: 0.8615\n",
      "Epoch 38/100\n",
      "235/235 [==============================] - 0s 2ms/step - loss: 0.3420 - accuracy: 0.8615\n",
      "Epoch 39/100\n",
      "235/235 [==============================] - 0s 2ms/step - loss: 0.3416 - accuracy: 0.8617\n",
      "Epoch 40/100\n",
      "235/235 [==============================] - 0s 2ms/step - loss: 0.3415 - accuracy: 0.8615\n",
      "Epoch 41/100\n",
      "235/235 [==============================] - 0s 2ms/step - loss: 0.3412 - accuracy: 0.8617\n",
      "Epoch 42/100\n",
      "235/235 [==============================] - 0s 1ms/step - loss: 0.3407 - accuracy: 0.8601\n",
      "Epoch 43/100\n",
      "235/235 [==============================] - 0s 2ms/step - loss: 0.3406 - accuracy: 0.8627\n",
      "Epoch 44/100\n",
      "235/235 [==============================] - 0s 2ms/step - loss: 0.3405 - accuracy: 0.8621\n",
      "Epoch 45/100\n",
      "235/235 [==============================] - 0s 2ms/step - loss: 0.3399 - accuracy: 0.8615\n",
      "Epoch 46/100\n",
      "235/235 [==============================] - 0s 2ms/step - loss: 0.3401 - accuracy: 0.8623\n",
      "Epoch 47/100\n",
      "235/235 [==============================] - 0s 2ms/step - loss: 0.3397 - accuracy: 0.8629\n",
      "Epoch 48/100\n",
      "235/235 [==============================] - 0s 2ms/step - loss: 0.3395 - accuracy: 0.8619\n",
      "Epoch 49/100\n",
      "235/235 [==============================] - 0s 2ms/step - loss: 0.3391 - accuracy: 0.8632\n",
      "Epoch 50/100\n",
      "235/235 [==============================] - 0s 2ms/step - loss: 0.3390 - accuracy: 0.8629\n",
      "Epoch 51/100\n",
      "235/235 [==============================] - 0s 2ms/step - loss: 0.3389 - accuracy: 0.8631\n",
      "Epoch 52/100\n",
      "235/235 [==============================] - 0s 2ms/step - loss: 0.3386 - accuracy: 0.8629\n",
      "Epoch 53/100\n",
      "235/235 [==============================] - 0s 2ms/step - loss: 0.3389 - accuracy: 0.8619\n",
      "Epoch 54/100\n",
      "235/235 [==============================] - 0s 2ms/step - loss: 0.3384 - accuracy: 0.8612\n",
      "Epoch 55/100\n",
      "235/235 [==============================] - 0s 2ms/step - loss: 0.3382 - accuracy: 0.8641\n",
      "Epoch 56/100\n",
      "235/235 [==============================] - 0s 2ms/step - loss: 0.3382 - accuracy: 0.8624\n",
      "Epoch 57/100\n",
      "235/235 [==============================] - 0s 2ms/step - loss: 0.3381 - accuracy: 0.8636\n",
      "Epoch 58/100\n",
      "235/235 [==============================] - 0s 2ms/step - loss: 0.3381 - accuracy: 0.8643\n",
      "Epoch 59/100\n",
      "235/235 [==============================] - 0s 2ms/step - loss: 0.3379 - accuracy: 0.8633\n",
      "Epoch 60/100\n",
      "235/235 [==============================] - 0s 2ms/step - loss: 0.3379 - accuracy: 0.8635\n",
      "Epoch 61/100\n",
      "235/235 [==============================] - 0s 2ms/step - loss: 0.3378 - accuracy: 0.8628\n",
      "Epoch 62/100\n",
      "235/235 [==============================] - 0s 2ms/step - loss: 0.3379 - accuracy: 0.8627\n",
      "Epoch 63/100\n",
      "235/235 [==============================] - 0s 2ms/step - loss: 0.3373 - accuracy: 0.8627\n",
      "Epoch 64/100\n",
      "235/235 [==============================] - 0s 2ms/step - loss: 0.3376 - accuracy: 0.8619\n",
      "Epoch 65/100\n",
      "235/235 [==============================] - 0s 2ms/step - loss: 0.3375 - accuracy: 0.8624\n",
      "Epoch 66/100\n",
      "235/235 [==============================] - 0s 2ms/step - loss: 0.3374 - accuracy: 0.8611\n",
      "Epoch 67/100\n",
      "235/235 [==============================] - 0s 2ms/step - loss: 0.3372 - accuracy: 0.8632\n",
      "Epoch 68/100\n",
      "235/235 [==============================] - 0s 2ms/step - loss: 0.3369 - accuracy: 0.8639\n",
      "Epoch 69/100\n",
      "235/235 [==============================] - 0s 2ms/step - loss: 0.3374 - accuracy: 0.8621\n",
      "Epoch 70/100\n",
      "235/235 [==============================] - 0s 2ms/step - loss: 0.3371 - accuracy: 0.8628\n",
      "Epoch 71/100\n",
      "235/235 [==============================] - 0s 2ms/step - loss: 0.3372 - accuracy: 0.8616\n",
      "Epoch 72/100\n",
      "235/235 [==============================] - 0s 2ms/step - loss: 0.3371 - accuracy: 0.8627\n",
      "Epoch 73/100\n",
      "235/235 [==============================] - 0s 2ms/step - loss: 0.3370 - accuracy: 0.8631\n",
      "Epoch 74/100\n",
      "235/235 [==============================] - 0s 2ms/step - loss: 0.3369 - accuracy: 0.8640\n",
      "Epoch 75/100\n",
      "235/235 [==============================] - 0s 2ms/step - loss: 0.3367 - accuracy: 0.8628\n",
      "Epoch 76/100\n",
      "235/235 [==============================] - 0s 2ms/step - loss: 0.3365 - accuracy: 0.8631\n",
      "Epoch 77/100\n",
      "235/235 [==============================] - 0s 2ms/step - loss: 0.3367 - accuracy: 0.8636\n",
      "Epoch 78/100\n",
      "235/235 [==============================] - 0s 2ms/step - loss: 0.3364 - accuracy: 0.8632\n",
      "Epoch 79/100\n",
      "235/235 [==============================] - 0s 2ms/step - loss: 0.3367 - accuracy: 0.8644\n",
      "Epoch 80/100\n",
      "235/235 [==============================] - 0s 2ms/step - loss: 0.3363 - accuracy: 0.8625\n",
      "Epoch 81/100\n",
      "235/235 [==============================] - 0s 2ms/step - loss: 0.3364 - accuracy: 0.8635\n",
      "Epoch 82/100\n",
      "235/235 [==============================] - 0s 2ms/step - loss: 0.3365 - accuracy: 0.8627\n",
      "Epoch 83/100\n",
      "235/235 [==============================] - 0s 2ms/step - loss: 0.3361 - accuracy: 0.8627\n",
      "Epoch 84/100\n",
      "235/235 [==============================] - 0s 2ms/step - loss: 0.3361 - accuracy: 0.8640\n",
      "Epoch 85/100\n",
      "235/235 [==============================] - 0s 2ms/step - loss: 0.3361 - accuracy: 0.8649\n",
      "Epoch 86/100\n",
      "235/235 [==============================] - 0s 2ms/step - loss: 0.3357 - accuracy: 0.8641\n",
      "Epoch 87/100\n",
      "235/235 [==============================] - 0s 2ms/step - loss: 0.3362 - accuracy: 0.8628\n",
      "Epoch 88/100\n",
      "235/235 [==============================] - 0s 2ms/step - loss: 0.3358 - accuracy: 0.8620\n",
      "Epoch 89/100\n",
      "235/235 [==============================] - 0s 2ms/step - loss: 0.3357 - accuracy: 0.8637\n",
      "Epoch 90/100\n",
      "235/235 [==============================] - 0s 2ms/step - loss: 0.3358 - accuracy: 0.8627\n",
      "Epoch 91/100\n",
      "235/235 [==============================] - 0s 2ms/step - loss: 0.3359 - accuracy: 0.8625\n",
      "Epoch 92/100\n",
      "235/235 [==============================] - 0s 2ms/step - loss: 0.3358 - accuracy: 0.8623\n",
      "Epoch 93/100\n",
      "235/235 [==============================] - 0s 2ms/step - loss: 0.3357 - accuracy: 0.8629\n",
      "Epoch 94/100\n",
      "235/235 [==============================] - 0s 2ms/step - loss: 0.3356 - accuracy: 0.8624\n",
      "Epoch 95/100\n",
      "235/235 [==============================] - 0s 2ms/step - loss: 0.3356 - accuracy: 0.8631\n",
      "Epoch 96/100\n",
      "235/235 [==============================] - 0s 2ms/step - loss: 0.3356 - accuracy: 0.8644\n",
      "Epoch 97/100\n",
      "235/235 [==============================] - 0s 2ms/step - loss: 0.3351 - accuracy: 0.8640\n",
      "Epoch 98/100\n",
      "235/235 [==============================] - 0s 2ms/step - loss: 0.3355 - accuracy: 0.8647\n",
      "Epoch 99/100\n",
      "235/235 [==============================] - 0s 2ms/step - loss: 0.3353 - accuracy: 0.8636\n",
      "Epoch 100/100\n",
      "235/235 [==============================] - 0s 2ms/step - loss: 0.3354 - accuracy: 0.8633\n"
     ]
    },
    {
     "data": {
      "text/plain": [
       "<keras.src.callbacks.History at 0x1d22f8214b0>"
      ]
     },
     "execution_count": 114,
     "metadata": {},
     "output_type": "execute_result"
    }
   ],
   "source": [
    "ann.fit(x_train,y_train,batch_size=32, epochs=100)"
   ]
  },
  {
   "cell_type": "markdown",
   "id": "2b85ab61",
   "metadata": {},
   "source": [
    "## Prediction and Evaluation"
   ]
  },
  {
   "cell_type": "code",
   "execution_count": 115,
   "id": "d88f44ce",
   "metadata": {},
   "outputs": [
    {
     "data": {
      "text/plain": [
       "array(['France', 'Spain', 'Germany'], dtype=object)"
      ]
     },
     "execution_count": 115,
     "metadata": {},
     "output_type": "execute_result"
    }
   ],
   "source": [
    "data['Geography'].unique()"
   ]
  },
  {
   "cell_type": "code",
   "execution_count": 116,
   "id": "93cf30d9",
   "metadata": {},
   "outputs": [
    {
     "name": "stdout",
     "output_type": "stream",
     "text": [
      "1/1 [==============================] - 0s 160ms/step\n",
      "[[0.08616529]]\n"
     ]
    }
   ],
   "source": [
    "print(ann.predict(sc.transform([[1,0,0,600,1,40,3,60000,2,1,1,50000]])))"
   ]
  },
  {
   "cell_type": "code",
   "execution_count": 117,
   "id": "9d39c2b6",
   "metadata": {},
   "outputs": [
    {
     "data": {
      "text/plain": [
       "array([[1.0, 0.0, 0.0, ..., 1, 1, 101348.88],\n",
       "       [0.0, 0.0, 1.0, ..., 0, 1, 112542.58],\n",
       "       [1.0, 0.0, 0.0, ..., 1, 0, 113931.57],\n",
       "       ...,\n",
       "       [1.0, 0.0, 0.0, ..., 0, 1, 42085.58],\n",
       "       [0.0, 1.0, 0.0, ..., 1, 0, 92888.52],\n",
       "       [1.0, 0.0, 0.0, ..., 1, 0, 38190.78]], dtype=object)"
      ]
     },
     "execution_count": 117,
     "metadata": {},
     "output_type": "execute_result"
    }
   ],
   "source": [
    "x"
   ]
  },
  {
   "cell_type": "code",
   "execution_count": 127,
   "id": "1ecaf2d2",
   "metadata": {},
   "outputs": [
    {
     "name": "stdout",
     "output_type": "stream",
     "text": [
      "1/1 [==============================] - 0s 66ms/step\n",
      "[[False]]\n"
     ]
    }
   ],
   "source": [
    "print(ann.predict(sc.transform([[1,0,0,600,1,40,3,60000,2,1,1,50000]])) < 0.001)"
   ]
  },
  {
   "cell_type": "markdown",
   "id": "ddaa07f3",
   "metadata": {},
   "source": [
    "### Prediction - Test set"
   ]
  },
  {
   "cell_type": "code",
   "execution_count": 128,
   "id": "df5528d2",
   "metadata": {},
   "outputs": [
    {
     "name": "stdout",
     "output_type": "stream",
     "text": [
      "79/79 [==============================] - 0s 1ms/step\n",
      "[[0 0]\n",
      " [0 1]\n",
      " [0 0]\n",
      " ...\n",
      " [0 0]\n",
      " [0 0]\n",
      " [0 0]]\n"
     ]
    }
   ],
   "source": [
    "y_pred = ann.predict(x_test)\n",
    "y_pred = (y_pred > 0.5)\n",
    "print(np.concatenate((y_pred.reshape(len(y_pred),1), y_test.reshape(len(y_test),1)),1))"
   ]
  },
  {
   "cell_type": "markdown",
   "id": "9d2d3437",
   "metadata": {},
   "source": [
    "### Confusion Matrix"
   ]
  },
  {
   "cell_type": "code",
   "execution_count": 129,
   "id": "e07f0917",
   "metadata": {},
   "outputs": [],
   "source": [
    "from sklearn.metrics import confusion_matrix, accuracy_score\n",
    "matrix=confusion_matrix(y_test,y_pred)\n",
    "accuracy=accuracy_score(y_test,y_pred)"
   ]
  },
  {
   "cell_type": "code",
   "execution_count": 130,
   "id": "5d4a6d5f",
   "metadata": {},
   "outputs": [
    {
     "data": {
      "text/plain": [
       "array([[1887,  104],\n",
       "       [ 239,  270]], dtype=int64)"
      ]
     },
     "execution_count": 130,
     "metadata": {},
     "output_type": "execute_result"
    }
   ],
   "source": [
    "matrix"
   ]
  },
  {
   "cell_type": "code",
   "execution_count": 131,
   "id": "d288d2c4",
   "metadata": {},
   "outputs": [
    {
     "data": {
      "text/plain": [
       "0.8628"
      ]
     },
     "execution_count": 131,
     "metadata": {},
     "output_type": "execute_result"
    }
   ],
   "source": [
    "accuracy"
   ]
  },
  {
   "cell_type": "code",
   "execution_count": null,
   "id": "e6f04505",
   "metadata": {},
   "outputs": [],
   "source": []
  }
 ],
 "metadata": {
  "kernelspec": {
   "display_name": "Python 3 (ipykernel)",
   "language": "python",
   "name": "python3"
  },
  "language_info": {
   "codemirror_mode": {
    "name": "ipython",
    "version": 3
   },
   "file_extension": ".py",
   "mimetype": "text/x-python",
   "name": "python",
   "nbconvert_exporter": "python",
   "pygments_lexer": "ipython3",
   "version": "3.10.9"
  }
 },
 "nbformat": 4,
 "nbformat_minor": 5
}
