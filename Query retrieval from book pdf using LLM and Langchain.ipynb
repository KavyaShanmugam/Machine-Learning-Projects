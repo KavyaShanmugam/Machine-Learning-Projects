{
 "cells": [
  {
   "cell_type": "markdown",
   "id": "bcded1a6-2430-4707-a78c-c82f4c5ee6fc",
   "metadata": {},
   "source": [
    "<a href = \"https://www.pieriantraining.com\"><img src=\"../PT Centered Purple.png\"> </a>\n",
    "\n",
    "<em style=\"text-align:center\">Copyrighted by Pierian Training</em>"
   ]
  },
  {
   "cell_type": "code",
   "execution_count": 2,
   "id": "d444a62d",
   "metadata": {},
   "outputs": [],
   "source": [
    "import langchain\n",
    "import chromadb\n",
    "import openai"
   ]
  },
  {
   "cell_type": "code",
   "execution_count": 3,
   "id": "3a17f111-e290-4ffc-b614-4d10e5673087",
   "metadata": {},
   "outputs": [],
   "source": [
    "# Build a sample vectorDB\n",
    "from langchain.vectorstores import Chroma\n",
    "from langchain.chat_models import ChatOpenAI\n",
    "from langchain.document_loaders import TextLoader\n",
    "from langchain.embeddings.openai import OpenAIEmbeddings\n",
    "from langchain.text_splitter import CharacterTextSplitter\n",
    "from langchain.retrievers import ContextualCompressionRetriever\n",
    "from langchain.retrievers.document_compressors import LLMChainExtractor \n",
    "\n",
    "import os\n",
    "api_key=os.getenv('api_key')"
   ]
  },
  {
   "cell_type": "code",
   "execution_count": 4,
   "id": "6957a463-821d-4223-a4ff-637e99cc5807",
   "metadata": {},
   "outputs": [],
   "source": [
    "from langchain.document_loaders import PyPDFLoader"
   ]
  },
  {
   "cell_type": "code",
   "execution_count": 14,
   "id": "dc7dafe9-7e3b-4bb5-abeb-4c99b66f623b",
   "metadata": {},
   "outputs": [],
   "source": [
    "def search_query(question):\n",
    "    '''\n",
    "    Takes in a question about the US Constitution and returns the most relevant\n",
    "    part of the constitution. Notice it may not directly answer the actual question!\n",
    "    \n",
    "    Follow the steps below to fill out this function:\n",
    "    '''\n",
    "    # PART ONE:\n",
    "    # LOAD \"some_data/US_Constitution in a Document object\n",
    "    loader = PyPDFLoader(\"C:/Users/user/Downloads/Merged doc.pdf\")\n",
    "    documents = loader.load()\n",
    "    \n",
    "    # PART TWO\n",
    "    # Split the document into chunks (you choose how and what size)\n",
    "    text_splitter = CharacterTextSplitter.from_tiktoken_encoder(chunk_size=500)\n",
    "    docs = text_splitter.split_documents(documents)\n",
    "    \n",
    "    # PART THREE\n",
    "    # EMBED THE Documents (now in chunks) to a persisted ChromaDB\n",
    "    embedding_function = OpenAIEmbeddings(openai_api_key=api_key)\n",
    "    \n",
    "    db = Chroma.from_documents(docs, embedding_function,\n",
    "                               persist_directory=\"C:/Users/user/Desktop/Vector storage./some_new_merged\")\n",
    "    db.persist()\n",
    "\n",
    "    # PART FOUR\n",
    "    # Use ChatOpenAI and ContextualCompressionRetriever to return the most\n",
    "    # relevant part of the documents.\n",
    "\n",
    "    # results = db.similarity_search(\"What is the 13th Amendment?\")\n",
    "    # print(results[0].page_content) # NEED TO COMPRESS THESE RESULTS!\n",
    "    llm = ChatOpenAI(openai_api_key=api_key,temperature=0)\n",
    "    compressor = LLMChainExtractor.from_llm(llm)\n",
    "\n",
    "    compression_retriever = ContextualCompressionRetriever(base_compressor=compressor, \n",
    "                                                           base_retriever=db.as_retriever())\n",
    "\n",
    "    compressed_docs = compression_retriever.get_relevant_documents(question)\n",
    "\n",
    "    return compressed_docs[0].page_content"
   ]
  },
  {
   "cell_type": "code",
   "execution_count": 15,
   "id": "33cd6246",
   "metadata": {},
   "outputs": [],
   "source": [
    "import warnings\n",
    "warnings.filterwarnings('ignore')"
   ]
  },
  {
   "cell_type": "code",
   "execution_count": 16,
   "id": "b6ca1a37-bc2f-49de-af25-22bc7437bff0",
   "metadata": {},
   "outputs": [
    {
     "name": "stdout",
     "output_type": "stream",
     "text": [
      "K MEANS CLUSTERING ALGORITNM  \n",
      "K-Means Clustering is an Unsupervised Learning algorithm, which groups the unlabeled dataset \n",
      "into different clusters. Here K defines the number of pre -defined clusters that need to be created \n",
      "in the process, as if K=2, there will be two clusters, and for K=3, there will be three clusters, and \n",
      "so on  \n",
      "K-Means algorithm that clusters data into a specified number of groups (K) by minimizing the \n",
      "within -cluster sum -of-squares (WCSS), also know n as inertia. The algorithm iteratively assigns \n",
      "each data point to the nearest centroid, then updates the centroids by calculating the mean of all \n",
      "assigned points. The process repeats until convergence or a stopping criterion is reached.  Applying \n",
      "the K -means clustering algorithm to segment customers into different clusters based on their \n",
      "purchasing behaviors and other characteristics, using the optimal number of clusters . It's important \n",
      "to note that the K -means algorithm might assign different labels to the  clusters in each run. To \n",
      "address this, we have taken an additional step to swap the labels based on the frequency of samples \n",
      "in each cluster, ensuring a consistent label assignment across different runs.\n"
     ]
    }
   ],
   "source": [
    "print(search_query(\"What is Kmeans clustering\"))"
   ]
  },
  {
   "cell_type": "code",
   "execution_count": null,
   "id": "225643e3-32ca-4cfe-ac96-e79c799c9cf5",
   "metadata": {},
   "outputs": [],
   "source": []
  }
 ],
 "metadata": {
  "kernelspec": {
   "display_name": "Python 3 (ipykernel)",
   "language": "python",
   "name": "python3"
  },
  "language_info": {
   "codemirror_mode": {
    "name": "ipython",
    "version": 3
   },
   "file_extension": ".py",
   "mimetype": "text/x-python",
   "name": "python",
   "nbconvert_exporter": "python",
   "pygments_lexer": "ipython3",
   "version": "3.10.9"
  }
 },
 "nbformat": 4,
 "nbformat_minor": 5
}
